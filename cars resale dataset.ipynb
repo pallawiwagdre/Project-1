{
 "cells": [
  {
   "cell_type": "markdown",
   "id": "0d1e016e",
   "metadata": {},
   "source": [
    "# Regression Project on Car Resale Prices"
   ]
  },
  {
   "cell_type": "markdown",
   "id": "11e74f58",
   "metadata": {},
   "source": [
    "## Step - 1 Business Problem Understanding"
   ]
  },
  {
   "cell_type": "markdown",
   "id": "6aeaf092",
   "metadata": {},
   "source": [
    "**Predict the Car Resale Price**"
   ]
  },
  {
   "cell_type": "markdown",
   "id": "81b48367",
   "metadata": {},
   "source": [
    "## Step - 2 Data Understanding "
   ]
  },
  {
   "cell_type": "code",
   "execution_count": 1,
   "id": "d2cdfa28",
   "metadata": {},
   "outputs": [],
   "source": [
    "import pandas as pd\n",
    "cars = pd.read_csv(\"C:\\\\NARESHIT\\\\car_resale_prices .csv\")\n",
    "cars"
   ]
  },
  {
   "cell_type": "code",
   "execution_count": 2,
   "id": "b359c9e0",
   "metadata": {},
   "outputs": [],
   "source": [
    "cars.info()   "
   ]
  },
  {
   "cell_type": "code",
   "execution_count": 3,
   "id": "362ae034",
   "metadata": {},
   "outputs": [],
   "source": [
    "cars.isnull().sum()"
   ]
  },
  {
   "cell_type": "code",
   "execution_count": 4,
   "id": "6a27975c",
   "metadata": {},
   "outputs": [],
   "source": [
    "car = cars.copy()\n",
    "car"
   ]
  },
  {
   "cell_type": "code",
   "execution_count": 5,
   "id": "5c33f3cd",
   "metadata": {},
   "outputs": [],
   "source": [
    "car.shape"
   ]
  },
  {
   "cell_type": "code",
   "execution_count": 6,
   "id": "17f3020c",
   "metadata": {},
   "outputs": [],
   "source": [
    "car[\"full_name\"].nunique()"
   ]
  },
  {
   "cell_type": "code",
   "execution_count": 7,
   "id": "1ce8d510",
   "metadata": {},
   "outputs": [],
   "source": [
    "car[\"resale_price\"].unique()"
   ]
  },
  {
   "cell_type": "code",
   "execution_count": 8,
   "id": "ec40c822",
   "metadata": {},
   "outputs": [],
   "source": [
    "car[\"resale_price\"].value_counts()"
   ]
  },
  {
   "cell_type": "code",
   "execution_count": 9,
   "id": "9e88b549",
   "metadata": {},
   "outputs": [],
   "source": [
    "car[\"registered_year\"].unique()"
   ]
  },
  {
   "cell_type": "code",
   "execution_count": 10,
   "id": "d0829c8a",
   "metadata": {},
   "outputs": [],
   "source": [
    "car[\"engine_capacity\"].unique()"
   ]
  },
  {
   "cell_type": "code",
   "execution_count": 11,
   "id": "7cd67776",
   "metadata": {},
   "outputs": [],
   "source": [
    "car[\"insurance\"].unique()"
   ]
  },
  {
   "cell_type": "code",
   "execution_count": 12,
   "id": "e6a3b6e9",
   "metadata": {},
   "outputs": [],
   "source": [
    "car[\"kms_driven\"].unique()"
   ]
  },
  {
   "cell_type": "code",
   "execution_count": 13,
   "id": "1f637a75",
   "metadata": {},
   "outputs": [],
   "source": [
    "car[\"fuel_type\"].unique()"
   ]
  },
  {
   "cell_type": "code",
   "execution_count": 14,
   "id": "ce927ffd",
   "metadata": {},
   "outputs": [],
   "source": [
    "car[\"owner_type\"].unique()"
   ]
  },
  {
   "cell_type": "code",
   "execution_count": 15,
   "id": "310e818c",
   "metadata": {},
   "outputs": [],
   "source": [
    "car['owner_type'].unique()"
   ]
  },
  {
   "cell_type": "code",
   "execution_count": 16,
   "id": "ba473979",
   "metadata": {},
   "outputs": [],
   "source": [
    "car[\"seats\"].unique()"
   ]
  },
  {
   "cell_type": "code",
   "execution_count": 17,
   "id": "b74cb271",
   "metadata": {},
   "outputs": [],
   "source": [
    "car[\"seats\"].value_counts()"
   ]
  },
  {
   "cell_type": "code",
   "execution_count": 18,
   "id": "ec10ef5d",
   "metadata": {},
   "outputs": [],
   "source": [
    "car[\"mileage\"].unique()"
   ]
  },
  {
   "cell_type": "code",
   "execution_count": 19,
   "id": "abdac084",
   "metadata": {
    "scrolled": true
   },
   "outputs": [],
   "source": [
    "car[\"mileage\"].unique()"
   ]
  },
  {
   "cell_type": "code",
   "execution_count": 20,
   "id": "6fb93d3d",
   "metadata": {},
   "outputs": [],
   "source": [
    "car[\"body_type\"].unique()"
   ]
  },
  {
   "cell_type": "code",
   "execution_count": 21,
   "id": "8aae6bcb",
   "metadata": {},
   "outputs": [],
   "source": [
    "car[\"body_type\"].value_counts()"
   ]
  },
  {
   "cell_type": "code",
   "execution_count": 22,
   "id": "6d7d0f06",
   "metadata": {},
   "outputs": [],
   "source": [
    "car['city'].unique()"
   ]
  },
  {
   "cell_type": "code",
   "execution_count": 23,
   "id": "d053f2e4",
   "metadata": {},
   "outputs": [],
   "source": [
    "car['city'].value_counts()"
   ]
  },
  {
   "cell_type": "markdown",
   "id": "565c4c12",
   "metadata": {},
   "source": [
    "## Step - 2 Data Cleaning"
   ]
  },
  {
   "cell_type": "markdown",
   "id": "213a3946",
   "metadata": {},
   "source": [
    "**Column 1 - full_name**"
   ]
  },
  {
   "cell_type": "code",
   "execution_count": 24,
   "id": "c6a4c134",
   "metadata": {},
   "outputs": [],
   "source": [
    "car['car_name'] = car['full_name'].replace(car.full_name.value_counts().to_dict())"
   ]
  },
  {
   "cell_type": "code",
   "execution_count": 25,
   "id": "b4ba6cdf",
   "metadata": {},
   "outputs": [],
   "source": [
    "car['car_name'].value_counts()"
   ]
  },
  {
   "cell_type": "code",
   "execution_count": 26,
   "id": "e56a3e73",
   "metadata": {},
   "outputs": [],
   "source": [
    "df_train = pd.concat([car, car['car_name']], axis = 1)\n",
    "car['car_name'].value_counts()"
   ]
  },
  {
   "cell_type": "code",
   "execution_count": null,
   "id": "fcad87e3",
   "metadata": {},
   "outputs": [],
   "source": [
    "car['car_name'].isna().sum()"
   ]
  },
  {
   "cell_type": "code",
   "execution_count": null,
   "id": "49d5786f",
   "metadata": {},
   "outputs": [],
   "source": [
    "car.drop('full_name', axis = 1, inplace = True)"
   ]
  },
  {
   "cell_type": "markdown",
   "id": "781468cb",
   "metadata": {},
   "source": [
    "**Column 3 - engine_capacity**"
   ]
  },
  {
   "cell_type": "code",
   "execution_count": null,
   "id": "688b1700",
   "metadata": {},
   "outputs": [],
   "source": [
    "car[\"engine_capacity\"] = car[\"engine_capacity\"].str.removesuffix(\"cc\")\n",
    "car"
   ]
  },
  {
   "cell_type": "markdown",
   "id": "eae14369",
   "metadata": {},
   "source": [
    "**Treating missing values**\n",
    "\n",
    "We can drop all missing values because we didnot know how to fill it."
   ]
  },
  {
   "cell_type": "code",
   "execution_count": null,
   "id": "fcc0da80",
   "metadata": {},
   "outputs": [],
   "source": [
    "car.dropna(subset  = ['registered_year','insurance','kms_driven','owner_type','max_power','mileage','seats','engine_capacity'], axis = 0 , inplace = True)"
   ]
  },
  {
   "cell_type": "code",
   "execution_count": null,
   "id": "556c0e82",
   "metadata": {},
   "outputs": [],
   "source": [
    "car.isna().sum()"
   ]
  },
  {
   "cell_type": "code",
   "execution_count": null,
   "id": "f2638ed7",
   "metadata": {},
   "outputs": [],
   "source": [
    "car[\"engine_capacity\"] = car[\"engine_capacity\"].astype(int)"
   ]
  },
  {
   "cell_type": "markdown",
   "id": "24cd522d",
   "metadata": {},
   "source": [
    "**Column 4 - insurance**"
   ]
  },
  {
   "cell_type": "code",
   "execution_count": null,
   "id": "754e0967",
   "metadata": {},
   "outputs": [],
   "source": [
    "car[\"insurance\"] =car[\"insurance\"].str.replace(\"1\",\"First Party\")\n",
    "car"
   ]
  },
  {
   "cell_type": "code",
   "execution_count": null,
   "id": "71806c0e",
   "metadata": {},
   "outputs": [],
   "source": [
    "car[\"insurance\"] =car[\"insurance\"].str.replace(\"2\",\"Second Party\")"
   ]
  },
  {
   "cell_type": "code",
   "execution_count": null,
   "id": "6115821a",
   "metadata": {},
   "outputs": [],
   "source": [
    "car[\"insurance\"] =car[\"insurance\"].str.replace(\"Third Party insurance\",\"Third Party\")"
   ]
  },
  {
   "cell_type": "code",
   "execution_count": null,
   "id": "e7822ea2",
   "metadata": {},
   "outputs": [],
   "source": [
    "car.isna().sum()"
   ]
  },
  {
   "cell_type": "markdown",
   "id": "b518b370",
   "metadata": {},
   "source": [
    "**Column 6 - kms_driven**"
   ]
  },
  {
   "cell_type": "code",
   "execution_count": null,
   "id": "736b83f9",
   "metadata": {},
   "outputs": [],
   "source": [
    "car[\"kms_driven\"] =car[\"kms_driven\"].str.removesuffix(\"Kms\")\n",
    "car"
   ]
  },
  {
   "cell_type": "code",
   "execution_count": null,
   "id": "5b4caa15",
   "metadata": {
    "scrolled": true
   },
   "outputs": [],
   "source": [
    "car[\"kms_driven\"] =car[\"kms_driven\"].str.replace(\",\",\"\")\n",
    "car"
   ]
  },
  {
   "cell_type": "code",
   "execution_count": null,
   "id": "60f268e7",
   "metadata": {
    "scrolled": true
   },
   "outputs": [],
   "source": [
    "car[\"kms_driven\"] =car[\"kms_driven\"].astype(int)\n",
    "car"
   ]
  },
  {
   "cell_type": "markdown",
   "id": "236d58d7",
   "metadata": {},
   "source": [
    "**Column 9 - seats**"
   ]
  },
  {
   "cell_type": "code",
   "execution_count": null,
   "id": "c7747f3d",
   "metadata": {},
   "outputs": [],
   "source": [
    "car.dropna(subset  = [\"seats\"], axis = 0 , inplace = True)\n",
    "car"
   ]
  },
  {
   "cell_type": "code",
   "execution_count": null,
   "id": "be1b0b63",
   "metadata": {},
   "outputs": [],
   "source": [
    "car[\"seats\"] = car[\"seats\"].astype(int)"
   ]
  },
  {
   "cell_type": "markdown",
   "id": "b5bf49d0",
   "metadata": {},
   "source": [
    "**Column 10 - mileage**"
   ]
  },
  {
   "cell_type": "code",
   "execution_count": null,
   "id": "4f457d64",
   "metadata": {},
   "outputs": [],
   "source": [
    "car[\"mileage\"] = car[\"mileage\"].str.removesuffix(\"kmpl\")\n",
    "car"
   ]
  },
  {
   "cell_type": "code",
   "execution_count": null,
   "id": "f881c6a7",
   "metadata": {},
   "outputs": [],
   "source": [
    "car[\"mileage\"] = car[\"mileage\"].str.removesuffix(\"km/kg\")"
   ]
  },
  {
   "cell_type": "code",
   "execution_count": null,
   "id": "ad4bb661",
   "metadata": {},
   "outputs": [],
   "source": [
    "car[\"mileage\"] = car[\"mileage\"].astype(float)"
   ]
  },
  {
   "cell_type": "code",
   "execution_count": null,
   "id": "3e898954",
   "metadata": {},
   "outputs": [],
   "source": [
    "car[\"mileage\"].unique()"
   ]
  },
  {
   "cell_type": "markdown",
   "id": "50c2b083",
   "metadata": {},
   "source": [
    "**Column 2 - resale_price**"
   ]
  },
  {
   "cell_type": "code",
   "execution_count": null,
   "id": "4d6ee7f8",
   "metadata": {},
   "outputs": [],
   "source": [
    "car[\"resale_price\"] = car[\"resale_price\"].str.removeprefix(\"₹\")\n",
    "car"
   ]
  },
  {
   "cell_type": "code",
   "execution_count": null,
   "id": "36a8da0e",
   "metadata": {},
   "outputs": [],
   "source": [
    "car[\"resale_price\"] = car[\"resale_price\"].str.replace(',',' ')"
   ]
  },
  {
   "cell_type": "code",
   "execution_count": null,
   "id": "eb0fc979",
   "metadata": {},
   "outputs": [],
   "source": [
    "car[\"resale_price\"].unique()"
   ]
  },
  {
   "cell_type": "code",
   "execution_count": null,
   "id": "bf42fe88",
   "metadata": {},
   "outputs": [],
   "source": [
    " car[\"resale_price\"] = car[\"resale_price\"].str.replace('[^\\d\\-+\\.]', '')"
   ]
  },
  {
   "cell_type": "code",
   "execution_count": null,
   "id": "d9f426d2",
   "metadata": {},
   "outputs": [],
   "source": [
    "car[\"resale_price\"] = car[\"resale_price\"].str.rstrip('.')\n",
    "\n",
    "car[\"resale_price\"] = car[\"resale_price\"].str.lstrip('+')"
   ]
  },
  {
   "cell_type": "code",
   "execution_count": null,
   "id": "8798aa82",
   "metadata": {
    "scrolled": true
   },
   "outputs": [],
   "source": [
    "car[\"resale_price\"] = car[\"resale_price\"].str.replace(',','').astype('float64')"
   ]
  },
  {
   "cell_type": "code",
   "execution_count": null,
   "id": "a6d1e1b9",
   "metadata": {},
   "outputs": [],
   "source": [
    "car['resale_price'].unique()"
   ]
  },
  {
   "cell_type": "code",
   "execution_count": null,
   "id": "444daf62",
   "metadata": {
    "scrolled": true
   },
   "outputs": [],
   "source": [
    "car['resale_price'] = car['resale_price'].apply(lambda x: x * 100 if x > 100 else x)\n",
    "\n",
    "# Check for outliers and remove or impute\n",
    "mean_value = car['resale_price'].mean()\n",
    "std_dev = car['resale_price'].std()\n",
    "car['resale_price'] = car['resale_price'].apply(lambda x: mean_value if x > mean_value + 3 * std_dev else x)\n",
    "\n",
    "# Normalize the data\n",
    "car['resale_price'] = car['resale_price'] / 100  # Convert back to lakh\n",
    "\n",
    "car"
   ]
  },
  {
   "cell_type": "code",
   "execution_count": null,
   "id": "80a19180",
   "metadata": {},
   "outputs": [],
   "source": [
    "car['resale_price'].max()"
   ]
  },
  {
   "cell_type": "code",
   "execution_count": null,
   "id": "59dad394",
   "metadata": {},
   "outputs": [],
   "source": [
    "car[\"resale_price\"] = car[\"resale_price\"]*10000000"
   ]
  },
  {
   "cell_type": "code",
   "execution_count": null,
   "id": "bae9142b",
   "metadata": {},
   "outputs": [],
   "source": [
    "car[car[\"resale_price\"] ==car['resale_price'].max()]"
   ]
  },
  {
   "cell_type": "code",
   "execution_count": null,
   "id": "47c017fb",
   "metadata": {},
   "outputs": [],
   "source": [
    "car"
   ]
  },
  {
   "cell_type": "markdown",
   "id": "beef8214",
   "metadata": {},
   "source": [
    "**Column 3 - registered_year**"
   ]
  },
  {
   "cell_type": "code",
   "execution_count": null,
   "id": "53aff869",
   "metadata": {},
   "outputs": [],
   "source": [
    "car[\"registered_year\"].unique()"
   ]
  },
  {
   "cell_type": "code",
   "execution_count": null,
   "id": "80ac18fa",
   "metadata": {},
   "outputs": [],
   "source": [
    "car[\"registered_year\"] = car[\"registered_year\"].replace({'Jan-11':'2011','Jan-12':'2012','Jan-13':'2013','Jan-14':'2014','Jan-15':'2015','Jan-16':'2016','Jan-17':'2017','Jan-18':'2018','Jan-19':'2019','Jan-20':'2020','Jan-21':'2021','Jan-22':'2022'})"
   ]
  },
  {
   "cell_type": "code",
   "execution_count": null,
   "id": "21bbcb23",
   "metadata": {},
   "outputs": [],
   "source": [
    "car[\"registered_year\"] = car[\"registered_year\"].replace({'Feb-11':'2011','Feb-12':'2012','Feb-13':'2013','Feb-14':'2014','Feb-15':'2015','Feb-16':'2016','Feb-17':'2017','Feb-18':'2018','Feb-19':'2019','Feb-20':'2020','Feb-21':'2021','Feb-22':'2022'})"
   ]
  },
  {
   "cell_type": "code",
   "execution_count": null,
   "id": "5a0d0004",
   "metadata": {},
   "outputs": [],
   "source": [
    "car[\"registered_year\"] = car[\"registered_year\"].replace({'Mar-11':'2011','Mar-12':'2012','Mar-13':'2013','Mar-14':'2014','Mar-15':'2015','Mar-16':'2016','Mar-17':'2017','Mar-18':'2018','Mar-19':'2019','Mar-20':'2020','Mar-21':'2021','Mar-22':'2022'})"
   ]
  },
  {
   "cell_type": "code",
   "execution_count": null,
   "id": "5aa07129",
   "metadata": {},
   "outputs": [],
   "source": [
    "car[\"registered_year\"] = car[\"registered_year\"].replace({'Apr-11':'2011','Apr-12':'2012','Apr-13':'2013','Apr-14':'2014','Apr-15':'2015','Apr-16':'2016','Apr-17':'2017','Apr-18':'2018','Apr-19':'2019','Apr-20':'2020','Apr-21':'2021','Apr-22':'2022'})"
   ]
  },
  {
   "cell_type": "code",
   "execution_count": null,
   "id": "d9fa0570",
   "metadata": {},
   "outputs": [],
   "source": [
    "car[\"registered_year\"] = car[\"registered_year\"].replace({'Jun-11':'2011','Jun-12':'2012','Jun-13':'2013','Jun-14':'2014','Jun-15':'2015','Jun-16':'2016','Jun-17':'2017','Jun-18':'2018','Jun-19':'2019','Jun-21':'2021','Jun-20':'2020','Jun-22':'2022'})"
   ]
  },
  {
   "cell_type": "code",
   "execution_count": null,
   "id": "85aa8085",
   "metadata": {},
   "outputs": [],
   "source": [
    "car[\"registered_year\"] = car[\"registered_year\"].replace({'Jul-11':'2011','Jul-12':'2012','Jul-13':'2013','Jul-14':'2014','Jul-15':'2015','Jul-16':'2016','Jul-17':'2017','Jul-18':'2018','Jul-19':'2019','Jul-20':'2020','Jul-21':'2021','Jul-22':'2022'})"
   ]
  },
  {
   "cell_type": "code",
   "execution_count": null,
   "id": "9837d5f6",
   "metadata": {},
   "outputs": [],
   "source": [
    "car[\"registered_year\"] = car[\"registered_year\"].replace({'Aug-11':'2011','Aug-12':'2012','Aug-13':'2013','Aug-14':'2014','Aug-15':'2015','Aug-16':'2016','Aug-17':'2017','Aug-18':'2018','Aug-19':'2019','Aug-20':'2020','Aug-21':'2021','Aug-22':'2022'})"
   ]
  },
  {
   "cell_type": "code",
   "execution_count": null,
   "id": "56b82c13",
   "metadata": {},
   "outputs": [],
   "source": [
    "car[\"registered_year\"] = car[\"registered_year\"].replace({'Sep-11':'2011','Sep-12':'2012','Sep-13':'2013','Sep-14':'2014','Sep-15':'2015','Sep-16':'2016','Sep-17':'2017','Sep-18':'2018','Sep-19':'2019','Sep-20':'2020','Sep-21':'2021','Sep-22':'2022'})"
   ]
  },
  {
   "cell_type": "code",
   "execution_count": null,
   "id": "531bbe3e",
   "metadata": {},
   "outputs": [],
   "source": [
    "car[\"registered_year\"] = car[\"registered_year\"].replace({'Oct-11':'2011','Oct-12':'2012','Oct-13':'2013','Oct-14':'2014','Oct-15':'2015','Oct-16':'2016','Oct-17':'2017','Oct-18':'2018','Oct-19':'2019','Oct-20':'2020','Oct-21':'2021','Oct-22':'2022'})"
   ]
  },
  {
   "cell_type": "code",
   "execution_count": null,
   "id": "8db3c368",
   "metadata": {},
   "outputs": [],
   "source": [
    "car[\"registered_year\"] = car[\"registered_year\"].replace({'Nov-11':'2011','Nov-12':'2012','Nov-13':'2013','Nov-14':'2014','Nov-15':'2015','Nov-16':'2016','Nov-17':'2017','Nov-18':'2018','Nov-19':'2019','Nov-20':'2020','Nov-21':'2021','Nov-22':'2022'})"
   ]
  },
  {
   "cell_type": "code",
   "execution_count": null,
   "id": "6aeec9a3",
   "metadata": {},
   "outputs": [],
   "source": [
    "car[\"registered_year\"] = car[\"registered_year\"].replace({'Dec-11':'2011','Dec-12':'2012','Dec-13':'2013','Dec-14':'2014','Dec-15':'2015','Dec-16':'2016','Dec-17':'2017','Dec-18':'2018','Dec-19':'2019','Dec-21':'2021','Dec-20':'2020','Dec-22':'2022'})"
   ]
  },
  {
   "cell_type": "code",
   "execution_count": null,
   "id": "32372c30",
   "metadata": {},
   "outputs": [],
   "source": [
    "car[\"registered_year\"] = car[\"registered_year\"].replace({'Jan-23':'2023','Feb-23':'2023','Mar-23':'2023','Apr-23':'2023','Jun-23':'2015','Jul-23':'2016','Aug-23':'2023','Sep-23':'2023','Oct-23':'2023','Nov-23':'2023','Dec-23':'2023'})"
   ]
  },
  {
   "cell_type": "code",
   "execution_count": null,
   "id": "5919d3e6",
   "metadata": {},
   "outputs": [],
   "source": [
    "car[\"registered_year\"] = car[\"registered_year\"].replace({'May-11':'2011','May-12':'2012','May-13':'2013','May-14':'2014','May-15':'2015','May-16':'2016','May-17':'2017','May-18':'2018','May-19':'2019','May-20':'2020','May-21':'2021','May-22':'2022','May-23':'2023'})"
   ]
  },
  {
   "cell_type": "code",
   "execution_count": null,
   "id": "dc48df40",
   "metadata": {},
   "outputs": [],
   "source": [
    "car[\"registered_year\"] = car[\"registered_year\"].replace({'Jan-05':'2005','Jan-06':'2006','Jan-08':'2008','Jan-09':'2009','Jan-10':'2010'})"
   ]
  },
  {
   "cell_type": "code",
   "execution_count": null,
   "id": "39972642",
   "metadata": {},
   "outputs": [],
   "source": [
    "car[\"registered_year\"] = car[\"registered_year\"].replace({'Feb-02':'2002','Feb-03':'2003','Feb-04':'2004','Feb-06':'2006','Feb-07':'2007','Feb-08':'2008','Feb-09':'2009','Feb-10':'2010'})"
   ]
  },
  {
   "cell_type": "code",
   "execution_count": null,
   "id": "91c47751",
   "metadata": {},
   "outputs": [],
   "source": [
    "car[\"registered_year\"] = car[\"registered_year\"].replace({'Mar-03':'2003','Mar-08':'2008','Mar-09':'2009','Mar-10':'2010'})"
   ]
  },
  {
   "cell_type": "code",
   "execution_count": null,
   "id": "6e7210b1",
   "metadata": {},
   "outputs": [],
   "source": [
    "car[\"registered_year\"] = car[\"registered_year\"].replace({'Apr-04':'2004','Apr-07':'2007','Apr-08':'2008','Apr-09':'2009','Apr-10':'2010'})"
   ]
  },
  {
   "cell_type": "code",
   "execution_count": null,
   "id": "e8ffe4f4",
   "metadata": {},
   "outputs": [],
   "source": [
    "car[\"registered_year\"] = car[\"registered_year\"].replace({'May-02':'2002','May-06':'2006','May-07':'2007','May-08':'2008','May-09':'2009','May-10':'2010'})"
   ]
  },
  {
   "cell_type": "code",
   "execution_count": null,
   "id": "e4912ba6",
   "metadata": {},
   "outputs": [],
   "source": [
    "car[\"registered_year\"].unique()"
   ]
  },
  {
   "cell_type": "code",
   "execution_count": null,
   "id": "ce238286",
   "metadata": {},
   "outputs": [],
   "source": [
    "car[\"registered_year\"] = car[\"registered_year\"].replace({'Jun-02':'2002','Jun-06':'2006','Jun-07':'2007','Jun-08':'2008','Jun-09':'2009','Jun-10':'2010'})"
   ]
  },
  {
   "cell_type": "code",
   "execution_count": null,
   "id": "9f35d418",
   "metadata": {},
   "outputs": [],
   "source": [
    "car[\"registered_year\"] = car[\"registered_year\"].replace({'Jul-03':'2003','Jul-04':'2004','Jul-05':'2005','Jul-06':'2006','Jul-07':'2007','Jul-08':'2008','Jul-09':'2009','Jul-10':'2010'})"
   ]
  },
  {
   "cell_type": "code",
   "execution_count": null,
   "id": "29d43043",
   "metadata": {},
   "outputs": [],
   "source": [
    "car[\"registered_year\"] = car[\"registered_year\"].replace({'Aug-03':'2003','Aug-05':'2005','Aug-06':'2006','Aug-07':'2007','Aug-08':'2008','Aug-09':'2009','Aug-10':'2010'})"
   ]
  },
  {
   "cell_type": "code",
   "execution_count": null,
   "id": "423406aa",
   "metadata": {},
   "outputs": [],
   "source": [
    "car[\"registered_year\"] = car[\"registered_year\"].replace({'Sep-05':'2005','Sep-08':'2008','Sep-09':'2009','Sep-10':'2010'})"
   ]
  },
  {
   "cell_type": "code",
   "execution_count": null,
   "id": "25510296",
   "metadata": {},
   "outputs": [],
   "source": [
    "car[\"registered_year\"] = car[\"registered_year\"].replace({'Oct-07':'2007','Oct-08':'2008','Oct-09':'2009','Oct-10':'2010'})"
   ]
  },
  {
   "cell_type": "code",
   "execution_count": null,
   "id": "ac4611d8",
   "metadata": {},
   "outputs": [],
   "source": [
    "car[\"registered_year\"] = car[\"registered_year\"].replace({'Nov-06':'2006','Nov-07':'2007','Nov-08':'2008','Nov-09':'2009','Nov-10':'2010'})"
   ]
  },
  {
   "cell_type": "code",
   "execution_count": null,
   "id": "0876e087",
   "metadata": {},
   "outputs": [],
   "source": [
    "car[\"registered_year\"] = car[\"registered_year\"].replace({'Dec-03':'2003','Dec-04':'2004','Dec-06':'2006','Dec-08':'2008','Dec-09':'2009','Dec-10':'2010'})"
   ]
  },
  {
   "cell_type": "code",
   "execution_count": null,
   "id": "494bf3d2",
   "metadata": {},
   "outputs": [],
   "source": [
    "car[\"registered_year\"].unique()"
   ]
  },
  {
   "cell_type": "code",
   "execution_count": null,
   "id": "7107cca5",
   "metadata": {},
   "outputs": [],
   "source": [
    "car[\"registered_year\"].value_counts()"
   ]
  },
  {
   "cell_type": "code",
   "execution_count": null,
   "id": "b601b723",
   "metadata": {},
   "outputs": [],
   "source": [
    "car.dropna(subset = [\"registered_year\"], axis = 0, inplace = True)"
   ]
  },
  {
   "cell_type": "code",
   "execution_count": null,
   "id": "72222f14",
   "metadata": {},
   "outputs": [],
   "source": [
    "car.info()"
   ]
  },
  {
   "cell_type": "code",
   "execution_count": null,
   "id": "f1d64763",
   "metadata": {},
   "outputs": [],
   "source": [
    "car['registered_year'] = car['registered_year'].astype(int)"
   ]
  },
  {
   "cell_type": "markdown",
   "id": "c3a985a5",
   "metadata": {},
   "source": [
    "**Column 10 - max_power**"
   ]
  },
  {
   "cell_type": "code",
   "execution_count": null,
   "id": "da56adae",
   "metadata": {},
   "outputs": [],
   "source": [
    "car[\"max_power\"] = car[\"max_power\"].str.removesuffix(\"bhp\")\n",
    "car"
   ]
  },
  {
   "cell_type": "code",
   "execution_count": null,
   "id": "f85c8526",
   "metadata": {},
   "outputs": [],
   "source": [
    "car[\"max_power\"].unique()"
   ]
  },
  {
   "cell_type": "code",
   "execution_count": null,
   "id": "b731474d",
   "metadata": {},
   "outputs": [],
   "source": [
    "car['max_power'] = car['max_power'].str.extract('(\\d+)')"
   ]
  },
  {
   "cell_type": "code",
   "execution_count": null,
   "id": "8cd8f07c",
   "metadata": {},
   "outputs": [],
   "source": [
    "car['max_power'].unique()"
   ]
  },
  {
   "cell_type": "code",
   "execution_count": null,
   "id": "c35cc086",
   "metadata": {},
   "outputs": [],
   "source": [
    "car.dropna(subset = ['max_power'], inplace = True)"
   ]
  },
  {
   "cell_type": "code",
   "execution_count": null,
   "id": "3688eb4c",
   "metadata": {},
   "outputs": [],
   "source": [
    "car['max_power'] = car['max_power'].astype(int)"
   ]
  },
  {
   "cell_type": "code",
   "execution_count": null,
   "id": "ce80ea57",
   "metadata": {
    "scrolled": false
   },
   "outputs": [],
   "source": [
    "car.info()"
   ]
  },
  {
   "cell_type": "markdown",
   "id": "db4fbc47",
   "metadata": {},
   "source": [
    "# Removing Outliers"
   ]
  },
  {
   "cell_type": "code",
   "execution_count": null,
   "id": "03be25b7",
   "metadata": {},
   "outputs": [],
   "source": [
    "l = car['resale_price'].quantile(0.25)\n",
    "u = car['resale_price'].quantile(0.75)\n",
    "car['resale_price'] = car['resale_price'].clip(l,u)\n",
    "car"
   ]
  },
  {
   "cell_type": "code",
   "execution_count": null,
   "id": "6ba4939b",
   "metadata": {},
   "outputs": [],
   "source": [
    "l1 = car['registered_year'].quantile(0.25)\n",
    "u1 = car['registered_year'].quantile(0.75)\n",
    "car['registered_year'] = car['registered_year'].clip(l1,u1)\n",
    "car"
   ]
  },
  {
   "cell_type": "code",
   "execution_count": null,
   "id": "7b6271df",
   "metadata": {},
   "outputs": [],
   "source": [
    "l2 = car['engine_capacity'].quantile(0.25)\n",
    "u2 = car['engine_capacity'].quantile(0.75)\n",
    "car['engine_capacity'] = car['engine_capacity'].clip(l2,u2)\n",
    "car"
   ]
  },
  {
   "cell_type": "code",
   "execution_count": null,
   "id": "d979b51a",
   "metadata": {},
   "outputs": [],
   "source": [
    "l3 = car['kms_driven'].quantile(0.25)\n",
    "u3 = car['kms_driven'].quantile(0.75)\n",
    "car['kms_driven'] = car['kms_driven'].clip(l3,u3)\n",
    "car"
   ]
  },
  {
   "cell_type": "code",
   "execution_count": null,
   "id": "dbea8025",
   "metadata": {},
   "outputs": [],
   "source": [
    "l4 = car['max_power'].quantile(0.25)\n",
    "u4 = car['max_power'].quantile(0.75)\n",
    "car['max_power'] = car['max_power'].clip(l4,u4)\n",
    "car"
   ]
  },
  {
   "cell_type": "code",
   "execution_count": null,
   "id": "f9ec885f",
   "metadata": {},
   "outputs": [],
   "source": [
    "l5 = car['seats'].quantile(0.25)\n",
    "u5 = car['seats'].quantile(0.75)\n",
    "car['seats'] = car['seats'].clip(l5,u5)\n",
    "print(l5,u5)"
   ]
  },
  {
   "cell_type": "code",
   "execution_count": null,
   "id": "a458ff14",
   "metadata": {},
   "outputs": [],
   "source": [
    "l6 = car['mileage'].quantile(0.25)\n",
    "u6 = car['mileage'].quantile(0.75)\n",
    "car['mileage'] = car['mileage'].clip(l6,u6)\n",
    "car"
   ]
  },
  {
   "cell_type": "code",
   "execution_count": null,
   "id": "05e8715f",
   "metadata": {},
   "outputs": [],
   "source": [
    "car.to_csv(\"cleaned_car_resale.csv\", index = False)"
   ]
  },
  {
   "cell_type": "code",
   "execution_count": null,
   "id": "e16408de",
   "metadata": {},
   "outputs": [],
   "source": []
  }
 ],
 "metadata": {
  "kernelspec": {
   "display_name": "Python 3 (ipykernel)",
   "language": "python",
   "name": "python3"
  },
  "language_info": {
   "codemirror_mode": {
    "name": "ipython",
    "version": 3
   },
   "file_extension": ".py",
   "mimetype": "text/x-python",
   "name": "python",
   "nbconvert_exporter": "python",
   "pygments_lexer": "ipython3",
   "version": "3.11.3"
  }
 },
 "nbformat": 4,
 "nbformat_minor": 5
}
